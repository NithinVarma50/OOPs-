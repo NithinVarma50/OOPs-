{
  "nbformat": 4,
  "nbformat_minor": 0,
  "metadata": {
    "colab": {
      "provenance": []
    },
    "kernelspec": {
      "name": "python3",
      "display_name": "Python 3"
    },
    "language_info": {
      "name": "python"
    }
  },
  "cells": [
    {
      "cell_type": "markdown",
      "source": [
        "# **Assignment answers**"
      ],
      "metadata": {
        "id": "xxPvSc83yPVk"
      }
    },
    {
      "cell_type": "markdown",
      "source": [
        "**Theory Questions**"
      ],
      "metadata": {
        "id": "0_sCXjqyyivg"
      }
    },
    {
      "cell_type": "markdown",
      "source": [
        "\n",
        "\n",
        "---\n",
        "\n",
        "### **Q1. What is Object-Oriented Programming (OOP)?**\n",
        "\n",
        "**Answer:**\n",
        "Object-Oriented Programming (OOP) is a method of programming where we think in terms of **objects** instead of just functions. Each object contains its own data (called attributes) and actions (called methods).\n",
        "\n",
        "The main idea of OOP is to make programs more **organized and reusable**. By using classes and objects, it becomes easier to model real-world situations, like creating a `Car` class to represent different cars.\n",
        "\n",
        "OOP also gives advantages such as code reusability, better structure, and easier maintenance.\n",
        "\n",
        "---\n",
        "\n",
        "### **Q2. What is a class in OOP?**\n",
        "\n",
        "**Answer:**\n",
        "A class is like a **blueprint** for creating objects. It defines what data the objects will have and what actions they can perform.\n",
        "\n",
        "For example:\n",
        "\n",
        "```python\n",
        "class Car:\n",
        "    def __init__(self, brand, color):\n",
        "        self.brand = brand\n",
        "        self.color = color\n",
        "\n",
        "    def start(self):\n",
        "        print(f\"{self.brand} car has started\")\n",
        "```\n",
        "\n",
        "Here, the class `Car` defines that every car object will have a brand, a color, and a method to start.\n",
        "\n",
        "---\n",
        "\n",
        "### **Q3. What is an object in OOP?**\n",
        "\n",
        "**Answer:**\n",
        "An object is an **instance of a class**, meaning it is created using the class blueprint. Each object can have its own values for the attributes.\n",
        "\n",
        "Example:\n",
        "\n",
        "```python\n",
        "car1 = Car(\"Tesla\", \"Red\")\n",
        "car2 = Car(\"BMW\", \"Black\")\n",
        "```\n",
        "\n",
        "Here, `car1` and `car2` are two objects of the class `Car`. They follow the same structure but have different details.\n",
        "\n",
        "---\n",
        "\n",
        "### **Q4. What is the difference between abstraction and encapsulation?**\n",
        "\n",
        "**Answer:**\n",
        "\n",
        "* **Abstraction** means hiding the complex details and only showing the important features. For example, when we use the `len()` function, we don’t need to know how it works internally; we just use it.\n",
        "* **Encapsulation** means keeping the data safe inside a class and restricting direct access. For example, in a bank account class, the balance can be kept private and updated only through deposit or withdraw methods.\n",
        "\n",
        "So, abstraction focuses on **what a system does**, while encapsulation focuses on **how the data is protected**.\n",
        "\n",
        "---\n",
        "\n",
        "### **Q5. What are dunder methods in Python?**\n",
        "\n",
        "**Answer:**\n",
        "Dunder methods (also called magic methods) are special methods in Python that start and end with double underscores, like `__init__`, `__str__`, `__add__`. They allow us to customize how objects behave.\n",
        "\n",
        "Example:\n",
        "\n",
        "```python\n",
        "class Book:\n",
        "    def __init__(self, title):\n",
        "        self.title = title\n",
        "    \n",
        "    def __str__(self):\n",
        "        return f\"Book: {self.title}\"\n",
        "```\n",
        "\n",
        "Here, using `__str__` makes the object print in a readable way instead of showing a memory address.\n",
        "\n",
        "---\n",
        "\n",
        "### **Q6. Explain the concept of inheritance in OOP.**\n",
        "\n",
        "**Answer:**\n",
        "Inheritance allows one class (child) to use the properties and methods of another class (parent). This avoids writing the same code again and makes it easier to extend.\n",
        "\n",
        "Example:\n",
        "\n",
        "```python\n",
        "class Animal:\n",
        "    def speak(self):\n",
        "        print(\"Some generic sound\")\n",
        "\n",
        "class Dog(Animal):\n",
        "    def speak(self):\n",
        "        print(\"Bark!\")\n",
        "```\n",
        "\n",
        "Here, `Dog` inherits from `Animal` but changes the `speak()` method. Inheritance is useful because it supports code reusability and shows a clear relationship between classes.\n",
        "\n",
        "\n",
        "\n",
        "---\n",
        "\n",
        "### **Q7. What is polymorphism in OOP?**\n",
        "\n",
        "**Answer:**\n",
        "Polymorphism means **“one name, many forms.”** In OOP, it allows the same function or method name to behave differently depending on the object that calls it.\n",
        "\n",
        "For example:\n",
        "\n",
        "```python\n",
        "class Bird:\n",
        "    def fly(self):\n",
        "        print(\"Bird is flying\")\n",
        "\n",
        "class Sparrow(Bird):\n",
        "    def fly(self):\n",
        "        print(\"Sparrow flies high\")\n",
        "\n",
        "class Penguin(Bird):\n",
        "    def fly(self):\n",
        "        print(\"Penguins cannot fly\")\n",
        "```\n",
        "\n",
        "Here, all classes have the method `fly()`, but the output changes depending on which object is used. This is polymorphism in action.\n",
        "\n",
        "---\n",
        "\n",
        "### **Q8. How is encapsulation achieved in Python?**\n",
        "\n",
        "**Answer:**\n",
        "Encapsulation in Python is done by making variables **private** using a double underscore (`__`). Then we provide methods (getters and setters) to access or modify them safely.\n",
        "\n",
        "Example:\n",
        "\n",
        "```python\n",
        "class Bank:\n",
        "    def __init__(self, balance):\n",
        "        self.__balance = balance   # private variable\n",
        "    \n",
        "    def deposit(self, amount):\n",
        "        self.__balance += amount\n",
        "    \n",
        "    def get_balance(self):\n",
        "        return self.__balance\n",
        "```\n",
        "\n",
        "Here, the balance cannot be changed directly from outside the class. It can only be modified using methods like `deposit()`. This keeps the data safe and controlled.\n",
        "\n",
        "---\n",
        "\n",
        "### **Q9. What is a constructor in Python?**\n",
        "\n",
        "**Answer:**\n",
        "A constructor in Python is a special method called `__init__`. It is executed automatically when a new object is created. The main purpose of a constructor is to initialize the object’s attributes.\n",
        "\n",
        "Example:\n",
        "\n",
        "```python\n",
        "class Student:\n",
        "    def __init__(self, name, age):\n",
        "        self.name = name\n",
        "        self.age = age\n",
        "```\n",
        "\n",
        "Whenever we create a `Student` object, the constructor runs and sets the name and age values.\n",
        "\n",
        "---\n",
        "\n",
        "### **Q10. What are class and static methods in Python?**\n",
        "\n",
        "**Answer:**\n",
        "Python provides two special types of methods inside classes:\n",
        "\n",
        "1. **Class Method (`@classmethod`)**\n",
        "\n",
        "   * Works with the class itself, not the individual object.\n",
        "   * Takes `cls` as the first parameter.\n",
        "\n",
        "2. **Static Method (`@staticmethod`)**\n",
        "\n",
        "   * A method inside the class that does not need access to class or object data.\n",
        "   * Works like a normal function but kept inside the class for better organization.\n",
        "\n",
        "Example:\n",
        "\n",
        "```python\n",
        "class Math:\n",
        "    @classmethod\n",
        "    def cls_method(cls):\n",
        "        print(\"This is a class method\")\n",
        "\n",
        "    @staticmethod\n",
        "    def static_method():\n",
        "        print(\"This is a static method\")\n",
        "```\n",
        "\n",
        "---\n",
        "\n",
        "### **Q11. What is method overloading in Python?**\n",
        "\n",
        "**Answer:**\n",
        "Method overloading means having **multiple methods with the same name but different parameters**. Strictly speaking, Python does not support traditional overloading like Java or C++.\n",
        "\n",
        "But in Python, we can achieve a similar effect by using **default arguments** or `*args`.\n",
        "\n",
        "Example:\n",
        "\n",
        "```python\n",
        "class Math:\n",
        "    def add(self, a, b=0, c=0):\n",
        "        return a + b + c\n",
        "```\n",
        "\n",
        "Here, the method `add()` can work with two numbers or three numbers, depending on how many arguments we pass.\n",
        "\n",
        "---\n",
        "\n",
        "### **Q12. What is method overriding in OOP?**\n",
        "\n",
        "**Answer:**\n",
        "Method overriding happens when a **child class provides its own version** of a method that is already defined in the parent class. The child class method replaces the parent method when called.\n",
        "\n",
        "Example:\n",
        "\n",
        "```python\n",
        "class Animal:\n",
        "    def sound(self):\n",
        "        print(\"Animal makes a sound\")\n",
        "\n",
        "class Dog(Animal):\n",
        "    def sound(self):\n",
        "        print(\"Dog barks\")\n",
        "```\n",
        "\n",
        "Here, `Dog` overrides the `sound()` method of `Animal`. When we call it on a `Dog` object, it uses the child’s method, not the parent’s.\n",
        "\n",
        "---\n",
        "\n",
        "### **Q13. What is a property decorator in Python?**\n",
        "\n",
        "**Answer:**\n",
        "The `@property` decorator in Python is used to turn a method into a **read-only attribute**. It allows us to access a method like an attribute without explicitly calling it with `()`.\n",
        "\n",
        "Example:\n",
        "\n",
        "```python\n",
        "class Circle:\n",
        "    def __init__(self, radius):\n",
        "        self.radius = radius\n",
        "\n",
        "    @property\n",
        "    def area(self):\n",
        "        return 3.14 * self.radius * self.radius\n",
        "\n",
        "c = Circle(5)\n",
        "print(c.area)   # Accessed like an attribute\n",
        "```\n",
        "\n",
        "Here, `area` is written like a method but can be used as if it were a normal attribute.\n",
        "\n",
        "---\n",
        "\n",
        "### **Q14. Why is polymorphism important in OOP?**\n",
        "\n",
        "**Answer:**\n",
        "Polymorphism is important because it makes code **flexible and reusable**. It allows the same method name to work differently depending on the object.\n",
        "\n",
        "For example, `Dog.speak()` and `Cat.speak()` can both be called using the same method name `speak()`, but they give different outputs. This means we can write general code that works for multiple object types without rewriting everything.\n",
        "\n",
        "---\n",
        "\n",
        "### **Q15. What is an abstract class in Python?**\n",
        "\n",
        "**Answer:**\n",
        "An abstract class is a class that cannot be directly instantiated. It is used to define methods that must be implemented in child classes. Abstract classes are created using the `abc` module and `@abstractmethod`.\n",
        "\n",
        "Example:\n",
        "\n",
        "```python\n",
        "from abc import ABC, abstractmethod\n",
        "\n",
        "class Shape(ABC):\n",
        "    @abstractmethod\n",
        "    def area(self):\n",
        "        pass\n",
        "```\n",
        "\n",
        "Here, any class that inherits `Shape` must implement the `area()` method. Abstract classes help enforce a structure in the program.\n",
        "\n",
        "---\n",
        "\n",
        "### **Q16. What are the advantages of OOP?**\n",
        "\n",
        "**Answer:**\n",
        "The main advantages of OOP are:\n",
        "\n",
        "1. **Reusability** – Code can be reused using inheritance.\n",
        "2. **Modularity** – Classes break large problems into smaller, manageable pieces.\n",
        "3. **Flexibility** – Polymorphism allows one interface to be used for different purposes.\n",
        "4. **Security** – Encapsulation hides sensitive data.\n",
        "5. **Maintainability** – Code becomes easier to update and extend.\n",
        "\n",
        "---\n",
        "\n",
        "### **Q17. What is the difference between a class variable and an instance variable?**\n",
        "\n",
        "**Answer:**\n",
        "\n",
        "* **Class Variable:** Shared across all objects of a class. Defined inside the class but outside methods.\n",
        "* **Instance Variable:** Unique to each object. Defined inside the constructor (`__init__`).\n",
        "\n",
        "Example:\n",
        "\n",
        "```python\n",
        "class Student:\n",
        "    school = \"ABC School\"   # class variable\n",
        "    def __init__(self, name):\n",
        "        self.name = name    # instance variable\n",
        "```\n",
        "\n",
        "Here, all students share the same `school`, but each student has a different `name`.\n",
        "\n",
        "---\n",
        "\n",
        "### **Q18. What is multiple inheritance in Python?**\n",
        "\n",
        "**Answer:**\n",
        "Multiple inheritance means a class can inherit from more than one parent class.\n",
        "\n",
        "Example:\n",
        "\n",
        "```python\n",
        "class A:\n",
        "    def showA(self): print(\"Class A\")\n",
        "\n",
        "class B:\n",
        "    def showB(self): print(\"Class B\")\n",
        "\n",
        "class C(A, B):\n",
        "    pass\n",
        "\n",
        "obj = C()\n",
        "obj.showA()\n",
        "obj.showB()\n",
        "```\n",
        "\n",
        "Here, class `C` inherits from both `A` and `B`. Python uses the **Method Resolution Order (MRO)** to decide which parent’s method runs first.\n",
        "\n",
        "---\n",
        "\n",
        "### **Q19. Explain the purpose of `__str__` and `__repr__` methods in Python.**\n",
        "\n",
        "**Answer:**\n",
        "\n",
        "* `__str__`: Returns a **readable string** for users. It is called when using `print(object)`.\n",
        "* `__repr__`: Returns a **developer-friendly string** that shows unambiguous details, usually for debugging.\n",
        "\n",
        "Example:\n",
        "\n",
        "```python\n",
        "class Book:\n",
        "    def __init__(self, title):\n",
        "        self.title = title\n",
        "    def __str__(self):\n",
        "        return f\"Book: {self.title}\"\n",
        "    def __repr__(self):\n",
        "        return f\"Book('{self.title}')\"\n",
        "```\n",
        "\n",
        "So, `__str__` is for the end user, while `__repr__` is for developers.\n",
        "\n",
        "---\n",
        "\n",
        "### **Q20. What is the significance of the `super()` function in Python?**\n",
        "\n",
        "**Answer:**\n",
        "The `super()` function is used to call methods from the parent class inside a child class. It helps avoid repeating code and ensures the parent’s constructor or method is also executed.\n",
        "\n",
        "Example:\n",
        "\n",
        "```python\n",
        "class Animal:\n",
        "    def __init__(self, name):\n",
        "        self.name = name\n",
        "\n",
        "class Dog(Animal):\n",
        "    def __init__(self, name, breed):\n",
        "        super().__init__(name)   # call parent constructor\n",
        "        self.breed = breed\n",
        "```\n",
        "\n",
        "Here, `super()` ensures the `name` attribute from `Animal` is initialized properly.\n",
        "\n",
        "---\n",
        "\n",
        "### **Q21. What is the significance of the `__del__` method in Python?**\n",
        "\n",
        "**Answer:**\n",
        "The `__del__` method is called when an object is about to be destroyed (garbage collected). It is like a **destructor**.\n",
        "\n",
        "Example:\n",
        "\n",
        "```python\n",
        "class Test:\n",
        "    def __del__(self):\n",
        "        print(\"Object is being deleted\")\n",
        "```\n",
        "\n",
        "It is not commonly used, but it can be helpful for cleanup tasks like closing files or connections.\n",
        "\n",
        "---\n",
        "\n",
        "### **Q22. What is the difference between `@staticmethod` and `@classmethod` in Python?**\n",
        "\n",
        "**Answer:**\n",
        "\n",
        "* **@staticmethod** → Does not take `self` or `cls`. Works like a normal function inside the class.\n",
        "* **@classmethod** → Takes `cls` as the first parameter and can modify class-level variables.\n",
        "\n",
        "Example:\n",
        "\n",
        "```python\n",
        "class Demo:\n",
        "    school = \"ABC\"\n",
        "\n",
        "    @staticmethod\n",
        "    def greet():\n",
        "        print(\"Hello\")\n",
        "\n",
        "    @classmethod\n",
        "    def change_school(cls, new_name):\n",
        "        cls.school = new_name\n",
        "```\n",
        "\n",
        "So, static methods are independent, while class methods deal with the class itself.\n",
        "\n",
        "---\n",
        "\n",
        "### **Q23. How does polymorphism work in Python with inheritance?**\n",
        "\n",
        "**Answer:**\n",
        "Polymorphism with inheritance means a child class can redefine methods from the parent class, and the correct method will be chosen depending on the object used.\n",
        "\n",
        "Example:\n",
        "\n",
        "```python\n",
        "class Animal:\n",
        "    def speak(self): print(\"Animal sound\")\n",
        "\n",
        "class Dog(Animal):\n",
        "    def speak(self): print(\"Bark\")\n",
        "\n",
        "class Cat(Animal):\n",
        "    def speak(self): print(\"Meow\")\n",
        "\n",
        "for animal in [Dog(), Cat()]:\n",
        "    animal.speak()\n",
        "```\n",
        "\n",
        "Here, the same method `speak()` works differently for `Dog` and `Cat`.\n",
        "\n",
        "---\n",
        "\n",
        "### **Q24. What is method chaining in Python OOP?**\n",
        "\n",
        "**Answer:**\n",
        "Method chaining means calling multiple methods on the same object in a single line. For this to work, each method must return the object (`self`).\n",
        "\n",
        "Example:\n",
        "\n",
        "```python\n",
        "class Person:\n",
        "    def set_name(self, name):\n",
        "        self.name = name\n",
        "        return self\n",
        "    def set_age(self, age):\n",
        "        self.age = age\n",
        "        return self\n",
        "\n",
        "p = Person().set_name(\"John\").set_age(25)\n",
        "```\n",
        "\n",
        "Here, methods are chained together because they return `self`.\n",
        "\n",
        "---\n",
        "\n",
        "### **Q25. What is the purpose of the `__call__` method in Python?**\n",
        "\n",
        "**Answer:**\n",
        "The `__call__` method makes an object behave like a function. If a class defines `__call__`, its objects can be called using parentheses.\n",
        "\n",
        "Example:\n",
        "\n",
        "```python\n",
        "class Adder:\n",
        "    def __init__(self, value):\n",
        "        self.value = value\n",
        "    def __call__(self, x):\n",
        "        return self.value + x\n",
        "\n",
        "add5 = Adder(5)\n",
        "print(add5(10))   # Output: 15\n",
        "```\n",
        "\n",
        "This feature is useful when we want objects that act like functions, such as in decorators or callable classes.\n",
        "\n",
        "---\n"
      ],
      "metadata": {
        "id": "i3NKKCWRYNSw"
      }
    },
    {
      "cell_type": "markdown",
      "source": [
        "# **Practical Questions**"
      ],
      "metadata": {
        "id": "N82XFiVGZqHY"
      }
    },
    {
      "cell_type": "code",
      "source": [
        "# 1. Create a parent class Animal with a method speak() that prints a generic message. Create a child class Dog that overrides the speak() method to print \"Bark!\".\n",
        "\n",
        "class Animal:\n",
        "    def speak(self):\n",
        "        print(\"This is a generic animal sound\")\n",
        "\n",
        "class Dog(Animal):\n",
        "    def speak(self):\n",
        "        print(\"Bark!\")\n",
        "\n",
        "a = Animal()\n",
        "a.speak()\n",
        "\n",
        "d = Dog()\n",
        "d.speak()\n"
      ],
      "metadata": {
        "colab": {
          "base_uri": "https://localhost:8080/"
        },
        "id": "627Hwt6VZzxx",
        "outputId": "bd44c90a-8524-411c-d48d-620b52c9a50e"
      },
      "execution_count": 1,
      "outputs": [
        {
          "output_type": "stream",
          "name": "stdout",
          "text": [
            "This is a generic animal sound\n",
            "Bark!\n"
          ]
        }
      ]
    },
    {
      "cell_type": "code",
      "source": [
        "# 2. Write a program to create an abstract class Shape with a method area().\n",
        "#    Derive classes Circle and Rectangle from it and implement the area() method in both.\n",
        "\n",
        "from abc import ABC, abstractmethod\n",
        "import math\n",
        "\n",
        "class Shape(ABC):\n",
        "    @abstractmethod\n",
        "    def area(self):\n",
        "        pass\n",
        "\n",
        "class Circle(Shape):\n",
        "    def __init__(self, radius):\n",
        "        self.radius = radius\n",
        "    def area(self):\n",
        "        return math.pi * self.radius * self.radius\n",
        "\n",
        "class Rectangle(Shape):\n",
        "    def __init__(self, length, width):\n",
        "        self.length = length\n",
        "        self.width = width\n",
        "    def area(self):\n",
        "        return self.length * self.width\n",
        "\n",
        "c = Circle(5)\n",
        "print(\"Circle area:\", c.area())\n",
        "\n",
        "r = Rectangle(4, 6)\n",
        "print(\"Rectangle area:\", r.area())\n"
      ],
      "metadata": {
        "colab": {
          "base_uri": "https://localhost:8080/"
        },
        "id": "5L34MhN0a-lZ",
        "outputId": "a20ef2b8-6a73-44d8-fdbe-4e4f0efea477"
      },
      "execution_count": 2,
      "outputs": [
        {
          "output_type": "stream",
          "name": "stdout",
          "text": [
            "Circle area: 78.53981633974483\n",
            "Rectangle area: 24\n"
          ]
        }
      ]
    },
    {
      "cell_type": "code",
      "source": [
        "# 3. Implement a multi-level inheritance scenario where a class Vehicle has an attribute type.\n",
        "#    Derive a class Car and further derive a class ElectricCar that adds a battery attribute.\n",
        "\n",
        "class Vehicle:\n",
        "    def __init__(self, v_type):\n",
        "        self.v_type = v_type\n",
        "\n",
        "class Car(Vehicle):\n",
        "    def __init__(self, v_type, brand):\n",
        "        super().__init__(v_type)\n",
        "        self.brand = brand\n",
        "\n",
        "class ElectricCar(Car):\n",
        "    def __init__(self, v_type, brand, battery):\n",
        "        super().__init__(v_type, brand)\n",
        "        self.battery = battery\n",
        "\n",
        "e = ElectricCar(\"Four Wheeler\", \"Tesla\", \"100 kWh\")\n",
        "print(e.v_type, e.brand, e.battery)\n"
      ],
      "metadata": {
        "colab": {
          "base_uri": "https://localhost:8080/"
        },
        "id": "J1IR_daqa-gd",
        "outputId": "3cbf7231-17de-430f-d293-98a1750b003e"
      },
      "execution_count": 3,
      "outputs": [
        {
          "output_type": "stream",
          "name": "stdout",
          "text": [
            "Four Wheeler Tesla 100 kWh\n"
          ]
        }
      ]
    },
    {
      "cell_type": "code",
      "source": [
        "# 4. Demonstrate polymorphism by creating a base class Bird with a method fly().\n",
        "#    Create two derived classes Sparrow and Penguin that override the fly() method.\n",
        "\n",
        "class Bird:\n",
        "    def fly(self):\n",
        "        print(\"Birds can fly in general\")\n",
        "\n",
        "class Sparrow(Bird):\n",
        "    def fly(self):\n",
        "        print(\"Sparrow flies high\")\n",
        "\n",
        "class Penguin(Bird):\n",
        "    def fly(self):\n",
        "        print(\"Penguins cannot fly\")\n",
        "\n",
        "for b in [Sparrow(), Penguin()]:\n",
        "    b.fly()\n"
      ],
      "metadata": {
        "colab": {
          "base_uri": "https://localhost:8080/"
        },
        "id": "BoWv8YPNa-ae",
        "outputId": "44ea9e4e-c549-4fd1-f215-66d7270f884a"
      },
      "execution_count": 4,
      "outputs": [
        {
          "output_type": "stream",
          "name": "stdout",
          "text": [
            "Sparrow flies high\n",
            "Penguins cannot fly\n"
          ]
        }
      ]
    },
    {
      "cell_type": "code",
      "source": [
        "# 5. Write a program to demonstrate encapsulation by creating a class BankAccount\n",
        "#    with private attributes balance and methods to deposit, withdraw, and check balance.\n",
        "\n",
        "class BankAccount:\n",
        "    def __init__(self, balance):\n",
        "        self.__balance = balance\n",
        "\n",
        "    def deposit(self, amount):\n",
        "        self.__balance += amount\n",
        "\n",
        "    def withdraw(self, amount):\n",
        "        if amount <= self.__balance:\n",
        "            self.__balance -= amount\n",
        "        else:\n",
        "            print(\"Insufficient balance\")\n",
        "\n",
        "    def get_balance(self):\n",
        "        return self.__balance\n",
        "\n",
        "acc = BankAccount(1000)\n",
        "acc.deposit(500)\n",
        "acc.withdraw(300)\n",
        "print(\"Balance:\", acc.get_balance())\n"
      ],
      "metadata": {
        "colab": {
          "base_uri": "https://localhost:8080/"
        },
        "id": "kGMfQ3-ma-XT",
        "outputId": "19976b90-f9ed-4028-f239-e438ae8a2e4f"
      },
      "execution_count": 5,
      "outputs": [
        {
          "output_type": "stream",
          "name": "stdout",
          "text": [
            "Balance: 1200\n"
          ]
        }
      ]
    },
    {
      "cell_type": "code",
      "source": [
        "# 6. Demonstrate runtime polymorphism using a method play() in a base class Instrument.\n",
        "#    Derive classes Guitar and Piano that implement their own version of play().\n",
        "\n",
        "class Instrument:\n",
        "    def play(self):\n",
        "        print(\"Instrument is playing\")\n",
        "\n",
        "class Guitar(Instrument):\n",
        "    def play(self):\n",
        "        print(\"Playing the guitar\")\n",
        "\n",
        "class Piano(Instrument):\n",
        "    def play(self):\n",
        "        print(\"Playing the piano\")\n",
        "\n",
        "for i in [Guitar(), Piano()]:\n",
        "    i.play()\n"
      ],
      "metadata": {
        "colab": {
          "base_uri": "https://localhost:8080/"
        },
        "id": "sUelDNt1a-Mq",
        "outputId": "b84e939a-a519-4780-a92c-85cfe0970271"
      },
      "execution_count": 6,
      "outputs": [
        {
          "output_type": "stream",
          "name": "stdout",
          "text": [
            "Playing the guitar\n",
            "Playing the piano\n"
          ]
        }
      ]
    },
    {
      "cell_type": "code",
      "source": [
        "# 7. Create a class MathOperations with a class method add_numbers() to add two numbers\n",
        "#    and a static method subtract_numbers() to subtract two numbers.\n",
        "\n",
        "class MathOperations:\n",
        "    @classmethod\n",
        "    def add_numbers(cls, a, b):\n",
        "        return a + b\n",
        "\n",
        "    @staticmethod\n",
        "    def subtract_numbers(a, b):\n",
        "        return a - b\n",
        "\n",
        "print(MathOperations.add_numbers(10, 5))\n",
        "print(MathOperations.subtract_numbers(10, 5))\n"
      ],
      "metadata": {
        "colab": {
          "base_uri": "https://localhost:8080/"
        },
        "id": "bY7uqTFOa-Jt",
        "outputId": "0f47b593-04db-4b1a-ed30-a1f071d5dc09"
      },
      "execution_count": 7,
      "outputs": [
        {
          "output_type": "stream",
          "name": "stdout",
          "text": [
            "15\n",
            "5\n"
          ]
        }
      ]
    },
    {
      "cell_type": "code",
      "source": [
        "# 8. Implement a class Person with a class method to count the total number of persons created.\n",
        "\n",
        "class Person:\n",
        "    count = 0\n",
        "\n",
        "    def __init__(self, name):\n",
        "        self.name = name\n",
        "        Person.count += 1\n",
        "\n",
        "    @classmethod\n",
        "    def total_persons(cls):\n",
        "        return cls.count\n",
        "\n",
        "p1 = Person(\"Alice\")\n",
        "p2 = Person(\"Bob\")\n",
        "print(\"Total Persons:\", Person.total_persons())\n"
      ],
      "metadata": {
        "colab": {
          "base_uri": "https://localhost:8080/"
        },
        "id": "f9IcqK5bbaeJ",
        "outputId": "f0ee2607-0ad2-495d-94df-11ad6e660567"
      },
      "execution_count": 8,
      "outputs": [
        {
          "output_type": "stream",
          "name": "stdout",
          "text": [
            "Total Persons: 2\n"
          ]
        }
      ]
    },
    {
      "cell_type": "code",
      "source": [
        "# 9. Write a class Fraction with attributes numerator and denominator.\n",
        "#    Override the str method to display the fraction as \"numerator/denominator\".\n",
        "\n",
        "class Fraction:\n",
        "    def __init__(self, num, den):\n",
        "        self.num = num\n",
        "        self.den = den\n",
        "\n",
        "    def __str__(self):\n",
        "        return f\"{self.num}/{self.den}\"\n",
        "\n",
        "f = Fraction(3, 4)\n",
        "print(f)\n"
      ],
      "metadata": {
        "colab": {
          "base_uri": "https://localhost:8080/"
        },
        "id": "b7AeOf4ebblK",
        "outputId": "4f127f56-67a3-40e9-dd2c-5f8856387f7f"
      },
      "execution_count": 9,
      "outputs": [
        {
          "output_type": "stream",
          "name": "stdout",
          "text": [
            "3/4\n"
          ]
        }
      ]
    },
    {
      "cell_type": "code",
      "source": [
        "# 10. Demonstrate operator overloading by creating a class Vector\n",
        "#     and overriding the add method to add two vectors.\n",
        "\n",
        "class Vector:\n",
        "    def __init__(self, x, y):\n",
        "        self.x = x\n",
        "        self.y = y\n",
        "\n",
        "    def __add__(self, other):\n",
        "        return Vector(self.x + other.x, self.y + other.y)\n",
        "\n",
        "    def __str__(self):\n",
        "        return f\"({self.x}, {self.y})\"\n",
        "\n",
        "v1 = Vector(2, 3)\n",
        "v2 = Vector(4, 5)\n",
        "print(v1 + v2)\n"
      ],
      "metadata": {
        "colab": {
          "base_uri": "https://localhost:8080/"
        },
        "id": "jRQtKDo1bbgw",
        "outputId": "97c57ec4-f294-4424-fbc6-667fdc454fc8"
      },
      "execution_count": 10,
      "outputs": [
        {
          "output_type": "stream",
          "name": "stdout",
          "text": [
            "(6, 8)\n"
          ]
        }
      ]
    },
    {
      "cell_type": "code",
      "source": [
        "# 11. Create a class Person with attributes name and age.\n",
        "#     Add a method greet() that prints \"Hello, my name is {name} and I am {age} years old.\"\n",
        "\n",
        "class Person:\n",
        "    def __init__(self, name, age):\n",
        "        self.name = name\n",
        "        self.age = age\n",
        "\n",
        "    def greet(self):\n",
        "        print(f\"Hello, my name is {self.name} and I am {self.age} years old.\")\n",
        "\n",
        "p = Person(\"John\", 25)\n",
        "p.greet()\n"
      ],
      "metadata": {
        "colab": {
          "base_uri": "https://localhost:8080/"
        },
        "id": "5RJgrVdTbbZ_",
        "outputId": "f78e58ca-1ea3-44e5-c3e4-9712eb02628e"
      },
      "execution_count": 11,
      "outputs": [
        {
          "output_type": "stream",
          "name": "stdout",
          "text": [
            "Hello, my name is John and I am 25 years old.\n"
          ]
        }
      ]
    },
    {
      "cell_type": "code",
      "source": [
        "# 12. Implement a class Student with attributes name and grades.\n",
        "#     Create a method average_grade() to compute the average of the grades.\n",
        "\n",
        "class Student:\n",
        "    def __init__(self, name, grades):\n",
        "        self.name = name\n",
        "        self.grades = grades\n",
        "\n",
        "    def average_grade(self):\n",
        "        return sum(self.grades) / len(self.grades)\n",
        "\n",
        "s = Student(\"Alice\", [80, 90, 85])\n",
        "print(\"Average Grade:\", s.average_grade())\n"
      ],
      "metadata": {
        "colab": {
          "base_uri": "https://localhost:8080/"
        },
        "id": "-Bg-109KbbWn",
        "outputId": "5b12244c-047e-4d8b-82b9-c8bf402d53f3"
      },
      "execution_count": 12,
      "outputs": [
        {
          "output_type": "stream",
          "name": "stdout",
          "text": [
            "Average Grade: 85.0\n"
          ]
        }
      ]
    },
    {
      "cell_type": "code",
      "source": [
        "# 13. Create a class Rectangle with methods set_dimensions() to set the dimensions\n",
        "#     and area() to calculate the area.\n",
        "\n",
        "class Rectangle:\n",
        "    def set_dimensions(self, length, width):\n",
        "        self.length = length\n",
        "        self.width = width\n",
        "\n",
        "    def area(self):\n",
        "        return self.length * self.width\n",
        "\n",
        "r = Rectangle()\n",
        "r.set_dimensions(5, 4)\n",
        "print(\"Area:\", r.area())\n"
      ],
      "metadata": {
        "colab": {
          "base_uri": "https://localhost:8080/"
        },
        "id": "jITSAOcobbBh",
        "outputId": "9bda11f2-3a59-48e5-a09c-7b3ddaa0d54e"
      },
      "execution_count": 13,
      "outputs": [
        {
          "output_type": "stream",
          "name": "stdout",
          "text": [
            "Area: 20\n"
          ]
        }
      ]
    },
    {
      "cell_type": "code",
      "source": [
        "# 14. Create a class Employee with a method calculate_salary() that computes the salary\n",
        "#     based on hours worked and hourly rate. Create a derived class Manager that adds a bonus to the salary.\n",
        "\n",
        "class Employee:\n",
        "    def calculate_salary(self, hours, rate):\n",
        "        return hours * rate\n",
        "\n",
        "class Manager(Employee):\n",
        "    def calculate_salary(self, hours, rate, bonus):\n",
        "        return super().calculate_salary(hours, rate) + bonus\n",
        "\n",
        "m = Manager()\n",
        "print(\"Manager Salary:\", m.calculate_salary(40, 50, 500))\n"
      ],
      "metadata": {
        "colab": {
          "base_uri": "https://localhost:8080/"
        },
        "id": "_w_Wle17bzdN",
        "outputId": "d57bd7a4-ee06-4947-afd8-40463009a96e"
      },
      "execution_count": 14,
      "outputs": [
        {
          "output_type": "stream",
          "name": "stdout",
          "text": [
            "Manager Salary: 2500\n"
          ]
        }
      ]
    },
    {
      "cell_type": "code",
      "source": [
        "# 15. Create a class Product with attributes name, price, and quantity.\n",
        "#     Implement a method total_price() that calculates the total price of the product.\n",
        "\n",
        "class Product:\n",
        "    def __init__(self, name, price, quantity):\n",
        "        self.name = name\n",
        "        self.price = price\n",
        "        self.quantity = quantity\n",
        "\n",
        "    def total_price(self):\n",
        "        return self.price * self.quantity\n",
        "\n",
        "p = Product(\"Laptop\", 50000, 2)\n",
        "print(\"Total Price:\", p.total_price())\n"
      ],
      "metadata": {
        "colab": {
          "base_uri": "https://localhost:8080/"
        },
        "id": "qSIPKE1_bzZ2",
        "outputId": "2b6b3257-35c5-4fa9-91ab-7af9557cac7c"
      },
      "execution_count": 15,
      "outputs": [
        {
          "output_type": "stream",
          "name": "stdout",
          "text": [
            "Total Price: 100000\n"
          ]
        }
      ]
    },
    {
      "cell_type": "code",
      "source": [
        "# 16. Create a class Animal with an abstract method sound().\n",
        "#     Create two derived classes Cow and Sheep that implement the sound() method.\n",
        "\n",
        "from abc import ABC, abstractmethod\n",
        "\n",
        "class Animal(ABC):\n",
        "    @abstractmethod\n",
        "    def sound(self):\n",
        "        pass\n",
        "\n",
        "class Cow(Animal):\n",
        "    def sound(self):\n",
        "        return \"Moooooooooooooooooooo\"\n",
        "\n",
        "class Sheep(Animal):\n",
        "    def sound(self):\n",
        "        return \"Mayyyyyyyyyyyyyyyyyy\"\n",
        "\n",
        "c = Cow()\n",
        "s = Sheep()\n",
        "print(c.sound())\n",
        "print(s.sound())\n"
      ],
      "metadata": {
        "colab": {
          "base_uri": "https://localhost:8080/"
        },
        "id": "u2YXRQJ6bzWi",
        "outputId": "8676ed46-c22d-4435-b1df-fc6118a42f7d"
      },
      "execution_count": 17,
      "outputs": [
        {
          "output_type": "stream",
          "name": "stdout",
          "text": [
            "Moooooooooooooooooooo\n",
            "Mayyyyyyyyyyyyyyyyyy\n"
          ]
        }
      ]
    },
    {
      "cell_type": "code",
      "source": [
        "# 18. Create a class House with attributes address and price.\n",
        "#     Create a derived class Mansion that adds an attribute number_of_rooms.\n",
        "\n",
        "class House:\n",
        "    def __init__(self, address, price):\n",
        "        self.address = address\n",
        "        self.price = price\n",
        "\n",
        "class Mansion(House):\n",
        "    def __init__(self, address, price, rooms):\n",
        "        super().__init__(address, price)\n",
        "        self.rooms = rooms\n",
        "\n",
        "m = Mansion(\"Hyderabad\", 20000000, 15)\n",
        "print(m.address, m.price, m.rooms)\n"
      ],
      "metadata": {
        "colab": {
          "base_uri": "https://localhost:8080/"
        },
        "id": "Vf3rgUxAbzS0",
        "outputId": "da3ac0c4-47bf-4e6e-d54f-85f98b665283"
      },
      "execution_count": 18,
      "outputs": [
        {
          "output_type": "stream",
          "name": "stdout",
          "text": [
            "Hyderabad 20000000 15\n"
          ]
        }
      ]
    }
  ]
}